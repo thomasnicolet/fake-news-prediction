{
 "cells": [
  {
   "cell_type": "markdown",
   "metadata": {},
   "source": [
    "# Final Project Logistic Regression Model\n",
    "\n",
    "# Datascience DIKU 2021\n",
    "\n",
    "This notebook documents some of our work on deep models for predicting fake news from the FakeNewsCorpus. We go through a simple sequential binary classification model, before moving on to Long Short Term Memory model, before applying a Global Vector embedding matrix on both. We choose which models to run and with what data at the start of the notebook. Scores are printed near the end, as well as preparing and predicing on data from the LIAR and Kaggle dataset."
   ]
  },
  {
   "cell_type": "code",
   "execution_count": 73,
   "metadata": {},
   "outputs": [],
   "source": [
    "from sklearn.model_selection import train_test_split\n",
    "\n",
    "import time\n",
    "import pandas as pd\n",
    "import numpy as np\n",
    "\n",
    "from sklearn.metrics import precision_score\n",
    "from sklearn.metrics import recall_score\n",
    "from sklearn.metrics import f1_score\n",
    "from multiprocessing import Pool\n",
    "from tensorflow.keras.preprocessing.text import Tokenizer\n",
    "import tensorflow as tf\n",
    "from tensorflow import keras\n",
    "from tensorflow.keras import layers\n",
    "from tensorflow.keras.preprocessing.sequence import pad_sequences\n",
    "from tensorflow.keras.models import Sequential\n",
    "from tensorflow.keras.layers import LSTM\n",
    "from tensorflow.keras.layers import Dense\n",
    "from tensorflow.keras.layers import Dropout\n",
    "from tensorflow.keras.layers import Embedding\n",
    "from tensorflow.keras.layers import Flatten\n",
    "\n",
    "import warnings\n",
    "warnings.filterwarnings('ignore')\n",
    "\n",
    "from sklearn.metrics import accuracy_score\n",
    "from sklearn.metrics import precision_score\n",
    "from sklearn.metrics import recall_score\n",
    "from sklearn.metrics import f1_score\n",
    "\n",
    "import matplotlib.pyplot as plt\n",
    "from matplotlib import rcParams\n",
    "plt.rcParams['figure.figsize'] = [10,10]\n",
    "import seaborn as sns\n",
    "sns.set_theme(style=\"darkgrid\")\n",
    "\n",
    "from LoadingAndCleaning import init_dataframe\n",
    "import LoadingAndCleaning"
   ]
  },
  {
   "cell_type": "markdown",
   "metadata": {},
   "source": [
    "# TODOs\n",
    "1. Put all or some functions into py file?\n",
    "2. Document\n",
    "3. Consider playing with other models"
   ]
  },
  {
   "cell_type": "code",
   "execution_count": 2,
   "metadata": {},
   "outputs": [],
   "source": [
    "def load_trim_and_process_df(percent_load, load_path, use_multiprocessing=True, is_clean_authors_and_title=False): \n",
    "   \n",
    "    raw_df = init_dataframe(load_path, percent_load)\n",
    "    df = LoadingAndCleaning.trim_and_clean_df(raw_df, use_multiprocessing, is_clean_authors_and_title)\n",
    "    #df = LoadingAndCleaning.drop_empty_string_rows(df)\n",
    "    df = LoadingAndCleaning.process_df(df)\n",
    "\n",
    "    return df"
   ]
  },
  {
   "cell_type": "code",
   "execution_count": 3,
   "metadata": {},
   "outputs": [],
   "source": [
    "def load_trim_and_process_df_only_content(percent_load, load_path, use_multiprocessing, is_clean_authors_and_title=False, only_content=True): \n",
    "   \n",
    "    raw_df = init_dataframe(load_path, percent_load)\n",
    "    df = LoadingAndCleaning.trim_and_clean_df_only_content(raw_df)\n",
    "    #df = LoadingAndCleaning.drop_empty_string_rows(df)\n",
    "    df = LoadingAndCleaning.process_df_only_content(df)\n",
    "\n",
    "    return df"
   ]
  },
  {
   "cell_type": "code",
   "execution_count": 4,
   "metadata": {},
   "outputs": [],
   "source": [
    "def init_and_fit_tokenizer(raw_df, use_all_info=False):\n",
    "    # Fill nans with empty strings, and append title and author to content\n",
    "    df = raw_df.fillna('')\n",
    "    \n",
    "    tokenizer = Tokenizer(oov_token = \"<OOV>\", num_words=6000)\n",
    "        \n",
    "    if use_all_info:\n",
    "        df['all_info'] = df['content'] + df['title'] + df['authors']\n",
    "        tokenizer.fit_on_texts(df['all_info'])\n",
    "        \n",
    "    else: \n",
    "        tokenizer.fit_on_texts(df['content_joined'])\n",
    "\n",
    "    # save labels in target\n",
    "    target = df['label'].values\n",
    "    \n",
    "    return df, tokenizer, target"
   ]
  },
  {
   "cell_type": "code",
   "execution_count": 5,
   "metadata": {},
   "outputs": [],
   "source": [
    "def adjust_df_labels_remove_fake(df): \n",
    "    df_real = df[df['label'] == 1]\n",
    "    df_fake = df[df['label'] == 0]\n",
    "    min_len = len(df_real)\n",
    "    df_adjusted = df_real.append(df_fake.sample(n=min_len))\n",
    "    \n",
    "    return df_adjusted"
   ]
  },
  {
   "cell_type": "code",
   "execution_count": 6,
   "metadata": {},
   "outputs": [],
   "source": [
    "def get_padded_training_sequence(df, feature, tokenizer):\n",
    "    #%%time\n",
    "    max_length = 40\n",
    "    #c = 6000\n",
    "\n",
    "    use_all_info = False\n",
    "    if use_all_info:\n",
    "        # Tokenize text to sequences\n",
    "        sequences_train = tokenizer.texts_to_sequences(df[feature])\n",
    "        #sequences_test = tokenizer.texts_to_sequences(test_df['all_info'])\n",
    "    else:\n",
    "        sequences_train = tokenizer.texts_to_sequences(df[feature])\n",
    "\n",
    "    padded_train = pad_sequences(sequences_train, padding = 'post', maxlen=max_length)\n",
    "    #padded_test = pad_sequences(sequences_test, padding = 'post', maxlen=max_length)\n",
    "    return padded_train"
   ]
  },
  {
   "cell_type": "markdown",
   "metadata": {},
   "source": []
  },
  {
   "cell_type": "markdown",
   "metadata": {},
   "source": [
    "# 0. Important commands: Decide which models are run here"
   ]
  },
  {
   "cell_type": "code",
   "execution_count": 7,
   "metadata": {},
   "outputs": [],
   "source": [
    "# Command center: Decide what model to train here\n",
    "load_and_train_simple_binary_classifier = True\n",
    "load_and_train_LSTM_model = True\n",
    "\n",
    "# will fix this, always using glove for the two below\n",
    "using_GloVe = True\n",
    "load_and_train_GloVe_BC_model = True\n",
    "load_and_train_LSTM_GloVe_model = True\n",
    "\n",
    "\n",
    "use_all_info = False"
   ]
  },
  {
   "cell_type": "markdown",
   "metadata": {},
   "source": [
    "# 1.1 Load data, trim, clean, process, ONLY content and label"
   ]
  },
  {
   "cell_type": "code",
   "execution_count": 8,
   "metadata": {},
   "outputs": [
    {
     "name": "stdout",
     "output_type": "stream",
     "text": [
      "Initializing dataframe...\n",
      "Initialized data (100906 entries) in: 6.2 seconds\n",
      "Trimming entries...\n",
      "Cleaning...\n",
      "Cleaned (51832 entries) in: 43.7 seconds\n",
      "Processing...\n",
      "Im using multiprocessing :)\n",
      "Processed(51832 entries) in: 30.0 seconds\n"
     ]
    }
   ],
   "source": [
    "#####################################\n",
    "#   Change \"percent_load\"           #\n",
    "#        to increase rows in data   #\n",
    "#####################################\n",
    "\n",
    "percent_load = 0.1\n",
    "load_path = 'data/1mio-raw.csv'\n",
    "use_multiprocessing = True\n",
    "is_clean_authors_and_title = True # Wups, not treated ideally? (cleaned like content)\n",
    "\n",
    "df = init_dataframe(load_path, percent_load)\n",
    "df['content'] = df['content'].astype('str')\n",
    "#df['label'] = np.where(((df['type'] == 'political') | (raw_df['type'] == 'reliable')), 1, 0)\n",
    "df = df[df.type != \"unknown\"]\n",
    "\n",
    "df = LoadingAndCleaning.trim_df_only_content(df)\n",
    "df = adjust_df_labels_remove_fake(df)\n",
    "df = LoadingAndCleaning.clean_df_only_content(df, use_multiprocessing)\n",
    "df = LoadingAndCleaning.process_df_only_content(df, use_multiprocessing)"
   ]
  },
  {
   "cell_type": "code",
   "execution_count": 9,
   "metadata": {},
   "outputs": [
    {
     "data": {
      "text/plain": [
       "political     25253\n",
       "fake           7260\n",
       "bias           6213\n",
       "conspiracy     4492\n",
       "rumor          2868\n",
       "unreliable     2081\n",
       "clickbait      1446\n",
       "junksci         874\n",
       "reliable        663\n",
       "satire          473\n",
       "hate            209\n",
       "Name: type, dtype: int64"
      ]
     },
     "execution_count": 9,
     "metadata": {},
     "output_type": "execute_result"
    }
   ],
   "source": [
    "df['type'].value_counts()"
   ]
  },
  {
   "cell_type": "code",
   "execution_count": 10,
   "metadata": {},
   "outputs": [
    {
     "data": {
      "text/html": [
       "<div>\n",
       "<style scoped>\n",
       "    .dataframe tbody tr th:only-of-type {\n",
       "        vertical-align: middle;\n",
       "    }\n",
       "\n",
       "    .dataframe tbody tr th {\n",
       "        vertical-align: top;\n",
       "    }\n",
       "\n",
       "    .dataframe thead th {\n",
       "        text-align: right;\n",
       "    }\n",
       "</style>\n",
       "<table border=\"1\" class=\"dataframe\">\n",
       "  <thead>\n",
       "    <tr style=\"text-align: right;\">\n",
       "      <th></th>\n",
       "      <th>type</th>\n",
       "      <th>content</th>\n",
       "      <th>label</th>\n",
       "      <th>content_joined</th>\n",
       "      <th>content_length</th>\n",
       "    </tr>\n",
       "  </thead>\n",
       "  <tbody>\n",
       "    <tr>\n",
       "      <th>8</th>\n",
       "      <td>reliable</td>\n",
       "      <td>[photo, reuters, teams, north, south, korea, m...</td>\n",
       "      <td>1</td>\n",
       "      <td>photo reuters teams north south korea march st...</td>\n",
       "      <td>307</td>\n",
       "    </tr>\n",
       "    <tr>\n",
       "      <th>28</th>\n",
       "      <td>political</td>\n",
       "      <td>[peace, forgotten, belong, mother, teresa, fri...</td>\n",
       "      <td>1</td>\n",
       "      <td>peace forgotten belong mother teresa friday ni...</td>\n",
       "      <td>17</td>\n",
       "    </tr>\n",
       "    <tr>\n",
       "      <th>51</th>\n",
       "      <td>reliable</td>\n",
       "      <td>[photo, reutershannah, mckay, priest, wears, r...</td>\n",
       "      <td>1</td>\n",
       "      <td>photo reutershannah mckay priest wears rainbow...</td>\n",
       "      <td>296</td>\n",
       "    </tr>\n",
       "    <tr>\n",
       "      <th>55</th>\n",
       "      <td>political</td>\n",
       "      <td>[enderly, park, blistering, unseasonable, sept...</td>\n",
       "      <td>1</td>\n",
       "      <td>enderly park blistering unseasonable september...</td>\n",
       "      <td>23</td>\n",
       "    </tr>\n",
       "    <tr>\n",
       "      <th>62</th>\n",
       "      <td>political</td>\n",
       "      <td>[fox, news, personality, todd, starnes, attrib...</td>\n",
       "      <td>1</td>\n",
       "      <td>fox news personality todd starnes attributed d...</td>\n",
       "      <td>545</td>\n",
       "    </tr>\n",
       "    <tr>\n",
       "      <th>...</th>\n",
       "      <td>...</td>\n",
       "      <td>...</td>\n",
       "      <td>...</td>\n",
       "      <td>...</td>\n",
       "      <td>...</td>\n",
       "    </tr>\n",
       "    <tr>\n",
       "      <th>26849</th>\n",
       "      <td>conspiracy</td>\n",
       "      <td>[lying, australian, pm, wanted, shirt, front, ...</td>\n",
       "      <td>0</td>\n",
       "      <td>lying australian pm wanted shirt front putin c...</td>\n",
       "      <td>81</td>\n",
       "    </tr>\n",
       "    <tr>\n",
       "      <th>55776</th>\n",
       "      <td>bias</td>\n",
       "      <td>[eu, launch, military, operation, central, afr...</td>\n",
       "      <td>0</td>\n",
       "      <td>eu launch military operation central african r...</td>\n",
       "      <td>59</td>\n",
       "    </tr>\n",
       "    <tr>\n",
       "      <th>46965</th>\n",
       "      <td>rumor</td>\n",
       "      <td>[february, integration, minister, inger, støjb...</td>\n",
       "      <td>0</td>\n",
       "      <td>february integration minister inger støjberg a...</td>\n",
       "      <td>164</td>\n",
       "    </tr>\n",
       "    <tr>\n",
       "      <th>42485</th>\n",
       "      <td>bias</td>\n",
       "      <td>[may, aware, cops, simply, steal, yes, exactly...</td>\n",
       "      <td>0</td>\n",
       "      <td>may aware cops simply steal yes exactly correc...</td>\n",
       "      <td>270</td>\n",
       "    </tr>\n",
       "    <tr>\n",
       "      <th>30806</th>\n",
       "      <td>conspiracy</td>\n",
       "      <td>[held, chipped, gleaming, black, triangle, fin...</td>\n",
       "      <td>0</td>\n",
       "      <td>held chipped gleaming black triangle fingers t...</td>\n",
       "      <td>894</td>\n",
       "    </tr>\n",
       "  </tbody>\n",
       "</table>\n",
       "<p>51832 rows × 5 columns</p>\n",
       "</div>"
      ],
      "text/plain": [
       "             type                                            content  label  \\\n",
       "8        reliable  [photo, reuters, teams, north, south, korea, m...      1   \n",
       "28      political  [peace, forgotten, belong, mother, teresa, fri...      1   \n",
       "51       reliable  [photo, reutershannah, mckay, priest, wears, r...      1   \n",
       "55      political  [enderly, park, blistering, unseasonable, sept...      1   \n",
       "62      political  [fox, news, personality, todd, starnes, attrib...      1   \n",
       "...           ...                                                ...    ...   \n",
       "26849  conspiracy  [lying, australian, pm, wanted, shirt, front, ...      0   \n",
       "55776        bias  [eu, launch, military, operation, central, afr...      0   \n",
       "46965       rumor  [february, integration, minister, inger, støjb...      0   \n",
       "42485        bias  [may, aware, cops, simply, steal, yes, exactly...      0   \n",
       "30806  conspiracy  [held, chipped, gleaming, black, triangle, fin...      0   \n",
       "\n",
       "                                          content_joined  content_length  \n",
       "8      photo reuters teams north south korea march st...             307  \n",
       "28     peace forgotten belong mother teresa friday ni...              17  \n",
       "51     photo reutershannah mckay priest wears rainbow...             296  \n",
       "55     enderly park blistering unseasonable september...              23  \n",
       "62     fox news personality todd starnes attributed d...             545  \n",
       "...                                                  ...             ...  \n",
       "26849  lying australian pm wanted shirt front putin c...              81  \n",
       "55776  eu launch military operation central african r...              59  \n",
       "46965  february integration minister inger støjberg a...             164  \n",
       "42485  may aware cops simply steal yes exactly correc...             270  \n",
       "30806  held chipped gleaming black triangle fingers t...             894  \n",
       "\n",
       "[51832 rows x 5 columns]"
      ]
     },
     "execution_count": 10,
     "metadata": {},
     "output_type": "execute_result"
    }
   ],
   "source": [
    "df"
   ]
  },
  {
   "cell_type": "markdown",
   "metadata": {},
   "source": [
    "## 1.2 Init and fit tokenizer"
   ]
  },
  {
   "cell_type": "code",
   "execution_count": 11,
   "metadata": {},
   "outputs": [],
   "source": [
    "use_all_info = False\n",
    "df, trained_tokenizer, target = init_and_fit_tokenizer(df, use_all_info)"
   ]
  },
  {
   "cell_type": "markdown",
   "metadata": {},
   "source": [
    "### 1.3 Get training_sequence and split data"
   ]
  },
  {
   "cell_type": "code",
   "execution_count": 12,
   "metadata": {},
   "outputs": [],
   "source": [
    "padded_train = get_padded_training_sequence(df, \"content_joined\", trained_tokenizer)"
   ]
  },
  {
   "cell_type": "code",
   "execution_count": 13,
   "metadata": {},
   "outputs": [],
   "source": [
    "# Split the padded training data and target vals into train and test\n",
    "X_train, X_test, y_train, y_test = train_test_split(padded_train, target, test_size=0.2)"
   ]
  },
  {
   "cell_type": "code",
   "execution_count": 14,
   "metadata": {},
   "outputs": [
    {
     "data": {
      "text/plain": [
       "((41465, 40), (41465,))"
      ]
     },
     "execution_count": 14,
     "metadata": {},
     "output_type": "execute_result"
    }
   ],
   "source": [
    "X_train.shape, y_train.shape"
   ]
  },
  {
   "cell_type": "markdown",
   "metadata": {},
   "source": [
    "# 2. First a simple Binary Classification model, using keras"
   ]
  },
  {
   "cell_type": "code",
   "execution_count": 15,
   "metadata": {},
   "outputs": [],
   "source": [
    "def get_simple_model(max_length = 40, vocab_size = 6000):\n",
    "    model = Sequential()\n",
    "    model.add(Embedding(vocab_size, 10, input_length=max_length))\n",
    "    model.add(Flatten())\n",
    "    model.add(Dense(1, activation='sigmoid'))\n",
    "    return model"
   ]
  },
  {
   "cell_type": "code",
   "execution_count": 16,
   "metadata": {},
   "outputs": [],
   "source": [
    "def get_callbacks(filepath):\n",
    "    callbacks=[\n",
    "    keras.callbacks.EarlyStopping(monitor=\"val_loss\", patience=15, \n",
    "                                  verbose=1, mode=\"min\", restore_best_weights=True),\n",
    "    keras.callbacks.ModelCheckpoint(filepath=filepath, verbose=1, save_best_only=True)\n",
    "    ]\n",
    "    return callbacks"
   ]
  },
  {
   "cell_type": "code",
   "execution_count": 17,
   "metadata": {},
   "outputs": [],
   "source": [
    "def init_binary_classification_model():\n",
    "    # Init model name and save\n",
    "    best_binary_clf_file_name = \"models/best_model_binary_clf.hdf5\"\n",
    "\n",
    "    # Init callbacks for early stopping (based on validation loss)\n",
    "    callbacks= get_callbacks(best_binary_clf_file_name)\n",
    "\n",
    "    # Print the params of the model\n",
    "    model = get_simple_model()\n",
    "    model.summary()\n",
    "    return model, callbacks, best_binary_clf_file_name"
   ]
  },
  {
   "cell_type": "code",
   "execution_count": 18,
   "metadata": {},
   "outputs": [],
   "source": [
    "def compile_model(model, opt='adam', loss_fn= 'binary_crossentropy'):\n",
    "    # Init the model with binary cross entropy loss, adam optimizer, looking at precision and recall\n",
    "    #loss_fn = 'binary_crossentropy'\n",
    "    #opt = keras.optimizers.Adam(learning_rate=0.01)\n",
    "    #opt = 'adam'\n",
    "    #loss_fn=tf.keras.losses.Poisson()\n",
    "    #tf.keras.losses.Poisson()\n",
    "    model.compile(loss=loss_fn,\n",
    "                  optimizer=opt, \n",
    "                  metrics=[tf.keras.metrics.Precision(), tf.keras.metrics.Recall()])\n",
    "    return model"
   ]
  },
  {
   "cell_type": "code",
   "execution_count": 19,
   "metadata": {},
   "outputs": [],
   "source": [
    "def train_and_get_history_deep_model(model, callbacks, X_train, y_train, X_test, y_test, epochs=20):\n",
    "    #%%time\n",
    "    history = model.fit(X_train, \n",
    "                        y_train, \n",
    "                        epochs=epochs,\n",
    "                        validation_data=(X_test, y_test), \n",
    "                        callbacks=callbacks)\n",
    "    \n",
    "    return history"
   ]
  },
  {
   "cell_type": "code",
   "execution_count": 20,
   "metadata": {},
   "outputs": [],
   "source": [
    "def print_scores(model, X_test, y_test, X_train, y_train): # add model, or filepath (and load) here?\n",
    "    #model = keras.models.load_model(best_model_file_name)\n",
    "    y_pred = (model.predict(X_test) > 0.5).astype(\"int32\")\n",
    "    y_pred_train = (model.predict(X_train) > 0.5).astype(\"int32\")\n",
    "    print(\"Scores for \", model)\n",
    "    print('Accuracy Train: ', accuracy_score(y_train, y_pred_train))\n",
    "    print('Accuracy Test: ', accuracy_score(y_test, y_pred))\n",
    "    print('Precision: ', precision_score(y_test, y_pred))\n",
    "    print('Recall: ', recall_score(y_test, y_pred))\n",
    "    print('F1 Score: ', f1_score(y_test, y_pred))"
   ]
  },
  {
   "cell_type": "code",
   "execution_count": 21,
   "metadata": {},
   "outputs": [
    {
     "data": {
      "text/plain": [
       "array([[   4,  139,  193, ...,  536,   82,    1],\n",
       "       [1226,   61,    1, ...,  645,  340, 4443],\n",
       "       [   5, 2044, 5467, ..., 1265,  262,    1],\n",
       "       ...,\n",
       "       [ 104,   82, 2723, ...,  734,  231,  195],\n",
       "       [   1,    1, 2735, ...,    0,    0,    0],\n",
       "       [ 924, 4361,  572, ...,    1,  195,    0]])"
      ]
     },
     "execution_count": 21,
     "metadata": {},
     "output_type": "execute_result"
    }
   ],
   "source": [
    "X_test"
   ]
  },
  {
   "cell_type": "markdown",
   "metadata": {},
   "source": [
    "## 2.1 Define and compile model"
   ]
  },
  {
   "cell_type": "code",
   "execution_count": 22,
   "metadata": {},
   "outputs": [
    {
     "name": "stdout",
     "output_type": "stream",
     "text": [
      "Model: \"sequential\"\n",
      "_________________________________________________________________\n",
      "Layer (type)                 Output Shape              Param #   \n",
      "=================================================================\n",
      "embedding (Embedding)        (None, 40, 10)            60000     \n",
      "_________________________________________________________________\n",
      "flatten (Flatten)            (None, 400)               0         \n",
      "_________________________________________________________________\n",
      "dense (Dense)                (None, 1)                 401       \n",
      "=================================================================\n",
      "Total params: 60,401\n",
      "Trainable params: 60,401\n",
      "Non-trainable params: 0\n",
      "_________________________________________________________________\n"
     ]
    }
   ],
   "source": [
    "if load_and_train_simple_binary_classifier:\n",
    "    binary_clf_model, binary_clf_callbacks, best_binary_clf_file_name = init_binary_classification_model()\n",
    "\n",
    "    binary_clf_model = compile_model(binary_clf_model)"
   ]
  },
  {
   "cell_type": "markdown",
   "metadata": {},
   "source": [
    "## 2.2 Run BC model"
   ]
  },
  {
   "cell_type": "code",
   "execution_count": 23,
   "metadata": {},
   "outputs": [
    {
     "name": "stdout",
     "output_type": "stream",
     "text": [
      "Epoch 1/20\n",
      "1296/1296 [==============================] - 2s 935us/step - loss: 0.4929 - precision: 0.7451 - recall: 0.7619 - val_loss: 0.3972 - val_precision: 0.7822 - val_recall: 0.8562\n",
      "\n",
      "Epoch 00001: val_loss improved from inf to 0.39718, saving model to models\\best_model_binary_clf.hdf5\n",
      "Epoch 2/20\n",
      "1296/1296 [==============================] - 1s 725us/step - loss: 0.3412 - precision: 0.8241 - recall: 0.8793 - val_loss: 0.3851 - val_precision: 0.7903 - val_recall: 0.8543\n",
      "\n",
      "Epoch 00002: val_loss improved from 0.39718 to 0.38509, saving model to models\\best_model_binary_clf.hdf5\n",
      "Epoch 3/20\n",
      "1296/1296 [==============================] - 1s 737us/step - loss: 0.2744 - precision: 0.8696 - recall: 0.9117 - val_loss: 0.3998 - val_precision: 0.8024 - val_recall: 0.8216\n",
      "\n",
      "Epoch 00003: val_loss did not improve from 0.38509\n",
      "Epoch 4/20\n",
      "1296/1296 [==============================] - 1s 723us/step - loss: 0.2143 - precision: 0.9080 - recall: 0.9392 - val_loss: 0.4289 - val_precision: 0.7988 - val_recall: 0.8059\n",
      "\n",
      "Epoch 00004: val_loss did not improve from 0.38509\n",
      "Epoch 5/20\n",
      "1296/1296 [==============================] - 1s 735us/step - loss: 0.1598 - precision: 0.9421 - recall: 0.9617 - val_loss: 0.4695 - val_precision: 0.7962 - val_recall: 0.7907\n",
      "\n",
      "Epoch 00005: val_loss did not improve from 0.38509\n",
      "Epoch 6/20\n",
      "1296/1296 [==============================] - 1s 740us/step - loss: 0.1143 - precision: 0.9676 - recall: 0.9789 - val_loss: 0.5171 - val_precision: 0.7897 - val_recall: 0.7974\n",
      "\n",
      "Epoch 00006: val_loss did not improve from 0.38509\n",
      "Epoch 7/20\n",
      "1296/1296 [==============================] - 1s 742us/step - loss: 0.0780 - precision: 0.9833 - recall: 0.9899 - val_loss: 0.5763 - val_precision: 0.7778 - val_recall: 0.8137\n",
      "\n",
      "Epoch 00007: val_loss did not improve from 0.38509\n",
      "Epoch 8/20\n",
      "1296/1296 [==============================] - 1s 753us/step - loss: 0.0514 - precision: 0.9925 - recall: 0.9950 - val_loss: 0.6418 - val_precision: 0.7881 - val_recall: 0.7854\n",
      "\n",
      "Epoch 00008: val_loss did not improve from 0.38509\n",
      "Epoch 9/20\n",
      "1296/1296 [==============================] - 1s 752us/step - loss: 0.0328 - precision: 0.9973 - recall: 0.9981 - val_loss: 0.7134 - val_precision: 0.7875 - val_recall: 0.7812\n",
      "\n",
      "Epoch 00009: val_loss did not improve from 0.38509\n",
      "Epoch 10/20\n",
      "1296/1296 [==============================] - 1s 742us/step - loss: 0.0205 - precision: 0.9988 - recall: 0.9993 - val_loss: 0.7877 - val_precision: 0.7867 - val_recall: 0.7825\n",
      "\n",
      "Epoch 00010: val_loss did not improve from 0.38509\n",
      "Epoch 11/20\n",
      "1296/1296 [==============================] - 1s 709us/step - loss: 0.0127 - precision: 0.9995 - recall: 0.9997 - val_loss: 0.8678 - val_precision: 0.7842 - val_recall: 0.7815\n",
      "\n",
      "Epoch 00011: val_loss did not improve from 0.38509\n",
      "Epoch 12/20\n",
      "1296/1296 [==============================] - 1s 717us/step - loss: 0.0077 - precision: 1.0000 - recall: 0.9999 - val_loss: 0.9497 - val_precision: 0.7858 - val_recall: 0.7794\n",
      "\n",
      "Epoch 00012: val_loss did not improve from 0.38509\n",
      "Epoch 13/20\n",
      "1296/1296 [==============================] - 1s 718us/step - loss: 0.0046 - precision: 1.0000 - recall: 0.9999 - val_loss: 1.0361 - val_precision: 0.7843 - val_recall: 0.7769\n",
      "\n",
      "Epoch 00013: val_loss did not improve from 0.38509\n",
      "Epoch 14/20\n",
      "1296/1296 [==============================] - 1s 734us/step - loss: 0.0028 - precision: 1.0000 - recall: 0.9999 - val_loss: 1.1212 - val_precision: 0.7851 - val_recall: 0.7756\n",
      "\n",
      "Epoch 00014: val_loss did not improve from 0.38509\n",
      "Epoch 15/20\n",
      "1296/1296 [==============================] - 1s 735us/step - loss: 0.0018 - precision: 1.0000 - recall: 1.0000 - val_loss: 1.2055 - val_precision: 0.7849 - val_recall: 0.7733\n",
      "\n",
      "Epoch 00015: val_loss did not improve from 0.38509\n",
      "Epoch 16/20\n",
      "1296/1296 [==============================] - 1s 733us/step - loss: 0.0012 - precision: 1.0000 - recall: 0.9999 - val_loss: 1.2897 - val_precision: 0.7811 - val_recall: 0.7783\n",
      "\n",
      "Epoch 00016: val_loss did not improve from 0.38509\n",
      "Epoch 17/20\n",
      "1296/1296 [==============================] - 1s 744us/step - loss: 9.6850e-04 - precision: 1.0000 - recall: 1.0000 - val_loss: 1.3703 - val_precision: 0.7809 - val_recall: 0.7812\n",
      "Restoring model weights from the end of the best epoch.\n",
      "\n",
      "Epoch 00017: val_loss did not improve from 0.38509\n",
      "Epoch 00017: early stopping\n",
      "Wall time: 17.4 s\n"
     ]
    }
   ],
   "source": [
    "%%time\n",
    "if load_and_train_simple_binary_classifier:\n",
    "    #%time\n",
    "    binary_clf_history = train_and_get_history_deep_model(binary_clf_model,\n",
    "                                                          binary_clf_callbacks,\n",
    "                                                          X_train,\n",
    "                                                          y_train,\n",
    "                                                          X_test,\n",
    "                                                          y_test)"
   ]
  },
  {
   "cell_type": "code",
   "execution_count": 24,
   "metadata": {},
   "outputs": [],
   "source": [
    "if load_and_train_simple_binary_classifier: \n",
    "    binary_clf_history.history.keys()"
   ]
  },
  {
   "cell_type": "markdown",
   "metadata": {},
   "source": [
    "## 2.3 Vizualization of training and validation loss, precision"
   ]
  },
  {
   "cell_type": "code",
   "execution_count": 25,
   "metadata": {},
   "outputs": [],
   "source": [
    "def line_plot_metric(metric, title, history):\n",
    "    metric_to_plot = metric\n",
    "    plt.plot(range(1, max(history.epoch) + 2), history.history[metric_to_plot], \".:\", label=\"Training loss\")\n",
    "    plt.plot(range(1, max(history.epoch) + 2), history.history[\"val_\" + metric_to_plot], \".:\", label=\"Validation loss\")\n",
    "    plt.title(title)\n",
    "    plt.xlim([1,max(history.epoch) + 2])\n",
    "    plt.xticks(range(1, max(history.epoch) + 2))\n",
    "    plt.xlabel(\"Epochs\")\n",
    "    plt.legend()\n",
    "    plt.show()"
   ]
  },
  {
   "cell_type": "code",
   "execution_count": 74,
   "metadata": {},
   "outputs": [
    {
     "data": {
      "image/png": "[encoded data removed]",
      "text/plain": [
       "<Figure size 720x720 with 1 Axes>"
      ]
     },
     "metadata": {},
     "output_type": "display_data"
    }
   ],
   "source": [
    "if load_and_train_simple_binary_classifier:\n",
    "    line_plot_metric( \"loss\", \"Training and Validation Loss\", binary_clf_history)"
   ]
  },
  {
   "cell_type": "code",
   "execution_count": 27,
   "metadata": {},
   "outputs": [
    {
     "data": {
      "image/png": "[encoded data removed]",
      "text/plain": [
       "<Figure size 720x720 with 1 Axes>"
      ]
     },
     "metadata": {
      "needs_background": "light"
     },
     "output_type": "display_data"
    }
   ],
   "source": [
    "if load_and_train_simple_binary_classifier:\n",
    "    line_plot_metric(\"precision\", \"Training and Validation Precision\", binary_clf_history)"
   ]
  },
  {
   "cell_type": "code",
   "execution_count": 28,
   "metadata": {},
   "outputs": [
    {
     "data": {
      "image/png": "[encoded data removed]",
      "text/plain": [
       "<Figure size 720x720 with 1 Axes>"
      ]
     },
     "metadata": {
      "needs_background": "light"
     },
     "output_type": "display_data"
    }
   ],
   "source": [
    "if load_and_train_simple_binary_classifier:\n",
    "    line_plot_metric(\"recall\", 'Training and Validation Recall', binary_clf_history)"
   ]
  },
  {
   "cell_type": "markdown",
   "metadata": {},
   "source": [
    "## 2.4 Lets look at performance of the simple model\n",
    "Compare this with base logistic model model. Consider having barchart with accuracy, precision, recall and f1score,\n",
    "and have a bar for each model"
   ]
  },
  {
   "cell_type": "code",
   "execution_count": 29,
   "metadata": {},
   "outputs": [
    {
     "name": "stdout",
     "output_type": "stream",
     "text": [
      "Scores for  <tensorflow.python.keras.engine.sequential.Sequential object at 0x00000272D6967B20>\n",
      "Accuracy Train:  0.8969733510189316\n",
      "Accuracy Test:  0.8123854538439278\n",
      "Precision:  0.7902940134608573\n",
      "Recall:  0.8542982959984683\n",
      "F1 Score:  0.8210506946361211\n"
     ]
    }
   ],
   "source": [
    "if load_and_train_simple_binary_classifier:\n",
    "    print_scores(binary_clf_model, X_test, y_test, X_train, y_train)"
   ]
  },
  {
   "cell_type": "markdown",
   "metadata": {},
   "source": [
    " # 3. Now lets try LSTM Network for Text Classification.\n",
    " (Long Short-Term Memory), type of recurrent neural network"
   ]
  },
  {
   "cell_type": "code",
   "execution_count": 30,
   "metadata": {},
   "outputs": [],
   "source": [
    "def get_simple_LSTM_model(max_length=40, vocab_size=6000):\n",
    "    model = Sequential()\n",
    "    model.add(Embedding(vocab_size, 10, input_length=max_length))\n",
    "    model.add(Dropout(0.3))\n",
    "    model.add(LSTM(100))\n",
    "    model.add(Dropout(0.3))\n",
    "    model.add(Dense(64, activation='relu'))\n",
    "    model.add(Dropout(0.3))\n",
    "    model.add(Dense(1, activation='sigmoid'))\n",
    "    return model"
   ]
  },
  {
   "cell_type": "code",
   "execution_count": 31,
   "metadata": {},
   "outputs": [],
   "source": [
    "def init_lstm_clf_model():\n",
    "    best_lstm_clf_file_name = \"models/best_model_simple_LSTM.hdf5\"\n",
    "\n",
    "    callbacks= get_callbacks(best_lstm_clf_file_name)\n",
    "\n",
    "    model = get_simple_LSTM_model()\n",
    "    #print(model.summary())\n",
    "\n",
    "    model.compile(loss='binary_crossentropy',optimizer='adam', metrics=[tf.keras.metrics.Precision(), tf.keras.metrics.Recall()])\n",
    "    \n",
    "    return model, callbacks, best_lstm_clf_file_name"
   ]
  },
  {
   "cell_type": "code",
   "execution_count": 32,
   "metadata": {},
   "outputs": [],
   "source": [
    "if load_and_train_LSTM_model:\n",
    "    lstm_model, lstm_callbacks, best_lstm_clf_file_name = init_lstm_clf_model()"
   ]
  },
  {
   "cell_type": "code",
   "execution_count": 33,
   "metadata": {},
   "outputs": [
    {
     "name": "stdout",
     "output_type": "stream",
     "text": [
      "Epoch 1/20\n",
      "1296/1296 [==============================] - 16s 11ms/step - loss: 0.4586 - precision_1: 0.7365 - recall_1: 0.8233 - val_loss: 0.3997 - val_precision_1: 0.7473 - val_recall_1: 0.9177\n",
      "\n",
      "Epoch 00001: val_loss improved from inf to 0.39967, saving model to models\\best_model_simple_LSTM.hdf5\n",
      "Epoch 2/20\n",
      "1296/1296 [==============================] - 14s 11ms/step - loss: 0.3709 - precision_1: 0.7945 - recall_1: 0.8735 - val_loss: 0.3933 - val_precision_1: 0.7678 - val_recall_1: 0.8830\n",
      "\n",
      "Epoch 00002: val_loss improved from 0.39967 to 0.39333, saving model to models\\best_model_simple_LSTM.hdf5\n",
      "Epoch 3/20\n",
      "1296/1296 [==============================] - 13s 10ms/step - loss: 0.3424 - precision_1: 0.8161 - recall_1: 0.8814 - val_loss: 0.3974 - val_precision_1: 0.7904 - val_recall_1: 0.8396\n",
      "\n",
      "Epoch 00003: val_loss did not improve from 0.39333\n",
      "Epoch 4/20\n",
      "1296/1296 [==============================] - 14s 11ms/step - loss: 0.3247 - precision_1: 0.8277 - recall_1: 0.8879 - val_loss: 0.4028 - val_precision_1: 0.7856 - val_recall_1: 0.8442\n",
      "\n",
      "Epoch 00004: val_loss did not improve from 0.39333\n",
      "Epoch 5/20\n",
      "1296/1296 [==============================] - 15s 11ms/step - loss: 0.3081 - precision_1: 0.8391 - recall_1: 0.8959 - val_loss: 0.4071 - val_precision_1: 0.7750 - val_recall_1: 0.8673\n",
      "\n",
      "Epoch 00005: val_loss did not improve from 0.39333\n",
      "Epoch 6/20\n",
      "1296/1296 [==============================] - 14s 11ms/step - loss: 0.2953 - precision_1: 0.8462 - recall_1: 0.9027 - val_loss: 0.4502 - val_precision_1: 0.7839 - val_recall_1: 0.8419\n",
      "\n",
      "Epoch 00006: val_loss did not improve from 0.39333\n",
      "Epoch 7/20\n",
      "1296/1296 [==============================] - 14s 11ms/step - loss: 0.2770 - precision_1: 0.8565 - recall_1: 0.9095 - val_loss: 0.4336 - val_precision_1: 0.7685 - val_recall_1: 0.8700\n",
      "\n",
      "Epoch 00007: val_loss did not improve from 0.39333\n",
      "Epoch 8/20\n",
      "1296/1296 [==============================] - 15s 11ms/step - loss: 0.2652 - precision_1: 0.8651 - recall_1: 0.9149 - val_loss: 0.4679 - val_precision_1: 0.8076 - val_recall_1: 0.7787\n",
      "\n",
      "Epoch 00008: val_loss did not improve from 0.39333\n",
      "Epoch 9/20\n",
      "1296/1296 [==============================] - 15s 11ms/step - loss: 0.2525 - precision_1: 0.8741 - recall_1: 0.9150 - val_loss: 0.4556 - val_precision_1: 0.7899 - val_recall_1: 0.8162\n",
      "\n",
      "Epoch 00009: val_loss did not improve from 0.39333\n",
      "Epoch 10/20\n",
      "1296/1296 [==============================] - 16s 12ms/step - loss: 0.2414 - precision_1: 0.8809 - recall_1: 0.9182 - val_loss: 0.4745 - val_precision_1: 0.7915 - val_recall_1: 0.8183\n",
      "\n",
      "Epoch 00010: val_loss did not improve from 0.39333\n",
      "Epoch 11/20\n",
      "1296/1296 [==============================] - 14s 11ms/step - loss: 0.2304 - precision_1: 0.8858 - recall_1: 0.9203 - val_loss: 0.4970 - val_precision_1: 0.7787 - val_recall_1: 0.8307\n",
      "\n",
      "Epoch 00011: val_loss did not improve from 0.39333\n",
      "Epoch 12/20\n",
      "1296/1296 [==============================] - 15s 11ms/step - loss: 0.2203 - precision_1: 0.8932 - recall_1: 0.9248 - val_loss: 0.5025 - val_precision_1: 0.7800 - val_recall_1: 0.8208\n",
      "\n",
      "Epoch 00012: val_loss did not improve from 0.39333\n",
      "Epoch 13/20\n",
      "1296/1296 [==============================] - 15s 11ms/step - loss: 0.2145 - precision_1: 0.8931 - recall_1: 0.9266 - val_loss: 0.5495 - val_precision_1: 0.7941 - val_recall_1: 0.7877\n",
      "\n",
      "Epoch 00013: val_loss did not improve from 0.39333\n",
      "Epoch 14/20\n",
      "1296/1296 [==============================] - 15s 12ms/step - loss: 0.2039 - precision_1: 0.9018 - recall_1: 0.9304 - val_loss: 0.5668 - val_precision_1: 0.8151 - val_recall_1: 0.7521\n",
      "\n",
      "Epoch 00014: val_loss did not improve from 0.39333\n",
      "Epoch 15/20\n",
      "1296/1296 [==============================] - 16s 12ms/step - loss: 0.1974 - precision_1: 0.9074 - recall_1: 0.9297 - val_loss: 0.5259 - val_precision_1: 0.7861 - val_recall_1: 0.8041\n",
      "\n",
      "Epoch 00015: val_loss did not improve from 0.39333\n",
      "Epoch 16/20\n",
      "1296/1296 [==============================] - 16s 12ms/step - loss: 0.1933 - precision_1: 0.9106 - recall_1: 0.9319 - val_loss: 0.5202 - val_precision_1: 0.7707 - val_recall_1: 0.8269\n",
      "\n",
      "Epoch 00016: val_loss did not improve from 0.39333\n",
      "Epoch 17/20\n",
      "1296/1296 [==============================] - 15s 12ms/step - loss: 0.1857 - precision_1: 0.9129 - recall_1: 0.9342 - val_loss: 0.5608 - val_precision_1: 0.7632 - val_recall_1: 0.8359\n",
      "Restoring model weights from the end of the best epoch.\n",
      "\n",
      "Epoch 00017: val_loss did not improve from 0.39333\n",
      "Epoch 00017: early stopping\n"
     ]
    }
   ],
   "source": [
    "if load_and_train_LSTM_model:\n",
    "    lstm_clf_history = train_and_get_history_deep_model(lstm_model, lstm_callbacks, X_train, y_train, X_test, y_test)"
   ]
  },
  {
   "cell_type": "markdown",
   "metadata": {},
   "source": [
    "## 3.1 Now vizualisation of LSTM loss\n",
    "Remember we want the validation loss to be minimized, so it doesnt matter that training decreases if validation does not"
   ]
  },
  {
   "cell_type": "code",
   "execution_count": 34,
   "metadata": {},
   "outputs": [
    {
     "data": {
      "image/png": "[encoded data removed]",
      "text/plain": [
       "<Figure size 720x720 with 1 Axes>"
      ]
     },
     "metadata": {
      "needs_background": "light"
     },
     "output_type": "display_data"
    }
   ],
   "source": [
    "if load_and_train_LSTM_model:\n",
    "    line_plot_metric( \"loss\", \"Training and Validation Loss\", lstm_clf_history)"
   ]
  },
  {
   "cell_type": "markdown",
   "metadata": {},
   "source": [
    "## 3.2 Print LSTM Scores"
   ]
  },
  {
   "cell_type": "code",
   "execution_count": 35,
   "metadata": {},
   "outputs": [
    {
     "name": "stdout",
     "output_type": "stream",
     "text": [
      "Scores for  <tensorflow.python.keras.engine.sequential.Sequential object at 0x0000027382475610>\n",
      "Accuracy Train:  0.8661039430845291\n",
      "Accuracy Test:  0.8065013986688531\n",
      "Precision:  0.7677709339104378\n",
      "Recall:  0.8830174229370094\n",
      "F1 Score:  0.8213713268032058\n"
     ]
    }
   ],
   "source": [
    "if load_and_train_LSTM_model: \n",
    "    print_scores(lstm_model, X_test, y_test, X_train, y_train)"
   ]
  },
  {
   "cell_type": "markdown",
   "metadata": {},
   "source": [
    "# 4. Now lets try with the pre-trained GloVe Embedding.\n",
    "Use it both for glove and add it to LSTM.\n",
    "\n",
    "Global vectors for word represenation"
   ]
  },
  {
   "cell_type": "code",
   "execution_count": 36,
   "metadata": {},
   "outputs": [],
   "source": [
    "# Using https://machinelearningmastery.com/use-word-embedding-layers-deep-learning-keras/"
   ]
  },
  {
   "cell_type": "code",
   "execution_count": 37,
   "metadata": {},
   "outputs": [],
   "source": [
    "# User Guide:\n",
    "# Download: 'http://nlp.stanford.edu/data/glove.6B.zip'\n",
    "# Unzip and place in 'data' folder"
   ]
  },
  {
   "cell_type": "code",
   "execution_count": 38,
   "metadata": {},
   "outputs": [],
   "source": [
    "def get_embeddings_index():\n",
    "    time_start = time.time()\n",
    "    embeddings_index = dict()\n",
    "    # f = open('/content/glove.6B.300d.txt')\n",
    "    f = open('data/glove.6B/glove.6B.300d.txt', encoding='utf-8')\n",
    "    for line in f:\n",
    "        values = line.split()\n",
    "        word = values[0]\n",
    "        coefs = np.asarray(values[1:], dtype='float32')\n",
    "        embeddings_index[word] = coefs\n",
    "    f.close()\n",
    "    time_end = time.time()\n",
    "    print('Loaded {} word vectors.'.format(len(embeddings_index)), \"in seconds: \",(time_end - time_start))\n",
    "    return embeddings_index"
   ]
  },
  {
   "cell_type": "code",
   "execution_count": 39,
   "metadata": {},
   "outputs": [],
   "source": [
    "def get_embedding_matrix(tokenizer, embeddings_index):\n",
    "    # create a weight matrix for words in training docs\n",
    "    time_start = time.time()\n",
    "    #print('Get vocab_size')\n",
    "    vocab_size = len(tokenizer.word_index) + 1\n",
    "\n",
    "    print('Creating the embedding matrix...')\n",
    "    embedding_matrix = np.zeros((vocab_size, 300))\n",
    "    for word, i in tokenizer.word_index.items():\n",
    "        embedding_vector = embeddings_index.get(word)\n",
    "        if embedding_vector is not None:\n",
    "            embedding_matrix[i] = embedding_vector\n",
    "            \n",
    "    time_end = time.time()\n",
    "    print('Created embedding matrix in seconds:' ,(time_end - time_start))\n",
    "    return embedding_matrix"
   ]
  },
  {
   "cell_type": "code",
   "execution_count": 40,
   "metadata": {},
   "outputs": [
    {
     "name": "stdout",
     "output_type": "stream",
     "text": [
      "Loaded 400000 word vectors. in seconds:  29.33614206314087\n"
     ]
    }
   ],
   "source": [
    "if using_GloVe:\n",
    "    embeddings_index = get_embeddings_index()"
   ]
  },
  {
   "cell_type": "code",
   "execution_count": 41,
   "metadata": {},
   "outputs": [
    {
     "name": "stdout",
     "output_type": "stream",
     "text": [
      "Creating the embedding matrix...\n",
      "Created embedding matrix in seconds: 0.2818107604980469\n"
     ]
    }
   ],
   "source": [
    "if using_GloVe:\n",
    "    embedding_matrix = get_embedding_matrix(trained_tokenizer, embeddings_index)"
   ]
  },
  {
   "cell_type": "markdown",
   "metadata": {},
   "source": [
    "# 5. Now lets try adding GloVe embedding matrix to binary clf model"
   ]
  },
  {
   "cell_type": "code",
   "execution_count": 42,
   "metadata": {},
   "outputs": [],
   "source": [
    "def get_simple_GloVe_model(embedding_matrix, tokenizer):\n",
    "    max_length = 40\n",
    "    vocab_size = len(tokenizer.word_index) + 1\n",
    "    model = Sequential()\n",
    "    model.add(Embedding(vocab_size, \n",
    "                        300, \n",
    "                        weights=[embedding_matrix], \n",
    "                        input_length=max_length,\n",
    "                        trainable=False))\n",
    "    model.add(Flatten())\n",
    "    model.add(Dense(1, activation='sigmoid'))\n",
    "    return model"
   ]
  },
  {
   "cell_type": "code",
   "execution_count": 43,
   "metadata": {},
   "outputs": [],
   "source": [
    "if load_and_train_GloVe_BC_model:\n",
    "    best_bc_GloVe_model_file_name = \"models/best_model_binary_clf_with_GloVe.hdf5\""
   ]
  },
  {
   "cell_type": "code",
   "execution_count": 44,
   "metadata": {},
   "outputs": [],
   "source": [
    "if load_and_train_GloVe_BC_model:\n",
    "    bc_GloVe_callbacks = get_callbacks(best_bc_GloVe_model_file_name)"
   ]
  },
  {
   "cell_type": "code",
   "execution_count": 45,
   "metadata": {},
   "outputs": [],
   "source": [
    "if load_and_train_GloVe_BC_model:\n",
    "    binary_clf_GloVe_model = get_simple_GloVe_model(embedding_matrix, trained_tokenizer)"
   ]
  },
  {
   "cell_type": "code",
   "execution_count": 46,
   "metadata": {},
   "outputs": [],
   "source": [
    "if load_and_train_GloVe_BC_model:\n",
    "    binary_clf_GloVe_model = compile_model(binary_clf_GloVe_model)"
   ]
  },
  {
   "cell_type": "markdown",
   "metadata": {},
   "source": [
    "## 5.1 Load and train BC with glove"
   ]
  },
  {
   "cell_type": "code",
   "execution_count": 47,
   "metadata": {},
   "outputs": [
    {
     "name": "stdout",
     "output_type": "stream",
     "text": [
      "Epoch 1/50\n",
      "1296/1296 [==============================] - 3s 2ms/step - loss: 0.5174 - precision_2: 0.7250 - recall_2: 0.7446 - val_loss: 0.4977 - val_precision_2: 0.7562 - val_recall_2: 0.7352\n",
      "\n",
      "Epoch 00001: val_loss improved from inf to 0.49767, saving model to models\\best_model_binary_clf_with_GloVe.hdf5\n",
      "Epoch 2/50\n",
      "1296/1296 [==============================] - 1s 1ms/step - loss: 0.4440 - precision_2: 0.7728 - recall_2: 0.7970 - val_loss: 0.5169 - val_precision_2: 0.7307 - val_recall_2: 0.8030\n",
      "\n",
      "Epoch 00002: val_loss did not improve from 0.49767\n",
      "Epoch 3/50\n",
      "1296/1296 [==============================] - 1s 1ms/step - loss: 0.4200 - precision_2: 0.7906 - recall_2: 0.8150 - val_loss: 0.5635 - val_precision_2: 0.7711 - val_recall_2: 0.6630\n",
      "\n",
      "Epoch 00003: val_loss did not improve from 0.49767\n",
      "Epoch 4/50\n",
      "1296/1296 [==============================] - 1s 1ms/step - loss: 0.4089 - precision_2: 0.7978 - recall_2: 0.8194 - val_loss: 0.5680 - val_precision_2: 0.7260 - val_recall_2: 0.7992\n",
      "\n",
      "Epoch 00004: val_loss did not improve from 0.49767\n",
      "Epoch 5/50\n",
      "1296/1296 [==============================] - 2s 1ms/step - loss: 0.3997 - precision_2: 0.8048 - recall_2: 0.8235 - val_loss: 0.5734 - val_precision_2: 0.7404 - val_recall_2: 0.7521\n",
      "\n",
      "Epoch 00005: val_loss did not improve from 0.49767\n",
      "Epoch 6/50\n",
      "1296/1296 [==============================] - 2s 1ms/step - loss: 0.3931 - precision_2: 0.8088 - recall_2: 0.8289 - val_loss: 0.5951 - val_precision_2: 0.7409 - val_recall_2: 0.7419\n",
      "\n",
      "Epoch 00006: val_loss did not improve from 0.49767\n",
      "Epoch 7/50\n",
      "1296/1296 [==============================] - 1s 1ms/step - loss: 0.3879 - precision_2: 0.8131 - recall_2: 0.8307 - val_loss: 0.6082 - val_precision_2: 0.7409 - val_recall_2: 0.7308\n",
      "\n",
      "Epoch 00007: val_loss did not improve from 0.49767\n",
      "Epoch 8/50\n",
      "1296/1296 [==============================] - 1s 1ms/step - loss: 0.3847 - precision_2: 0.8155 - recall_2: 0.8327 - val_loss: 0.6277 - val_precision_2: 0.7474 - val_recall_2: 0.7019\n",
      "\n",
      "Epoch 00008: val_loss did not improve from 0.49767\n",
      "Epoch 9/50\n",
      "1296/1296 [==============================] - 1s 1ms/step - loss: 0.3817 - precision_2: 0.8168 - recall_2: 0.8341 - val_loss: 0.6447 - val_precision_2: 0.7151 - val_recall_2: 0.8013\n",
      "\n",
      "Epoch 00009: val_loss did not improve from 0.49767\n",
      "Epoch 10/50\n",
      "1296/1296 [==============================] - 1s 1ms/step - loss: 0.3788 - precision_2: 0.8194 - recall_2: 0.8360 - val_loss: 0.6429 - val_precision_2: 0.7313 - val_recall_2: 0.7469\n",
      "\n",
      "Epoch 00010: val_loss did not improve from 0.49767\n",
      "Epoch 11/50\n",
      "1296/1296 [==============================] - 1s 1ms/step - loss: 0.3767 - precision_2: 0.8216 - recall_2: 0.8353 - val_loss: 0.6543 - val_precision_2: 0.7343 - val_recall_2: 0.7272\n",
      "\n",
      "Epoch 00011: val_loss did not improve from 0.49767\n",
      "Epoch 12/50\n",
      "1296/1296 [==============================] - 2s 1ms/step - loss: 0.3746 - precision_2: 0.8221 - recall_2: 0.8387 - val_loss: 0.6829 - val_precision_2: 0.7536 - val_recall_2: 0.6711\n",
      "\n",
      "Epoch 00012: val_loss did not improve from 0.49767\n",
      "Epoch 13/50\n",
      "1296/1296 [==============================] - 2s 1ms/step - loss: 0.3746 - precision_2: 0.8241 - recall_2: 0.8385 - val_loss: 0.6704 - val_precision_2: 0.7360 - val_recall_2: 0.7388\n",
      "\n",
      "Epoch 00013: val_loss did not improve from 0.49767\n",
      "Epoch 14/50\n",
      "1296/1296 [==============================] - 1s 1ms/step - loss: 0.3696 - precision_2: 0.8270 - recall_2: 0.8404 - val_loss: 0.6804 - val_precision_2: 0.7298 - val_recall_2: 0.7404\n",
      "\n",
      "Epoch 00014: val_loss did not improve from 0.49767\n",
      "Epoch 15/50\n",
      "1296/1296 [==============================] - 2s 1ms/step - loss: 0.3678 - precision_2: 0.8257 - recall_2: 0.8427 - val_loss: 0.6904 - val_precision_2: 0.7365 - val_recall_2: 0.7182\n",
      "\n",
      "Epoch 00015: val_loss did not improve from 0.49767\n",
      "Epoch 16/50\n",
      "1296/1296 [==============================] - 1s 1ms/step - loss: 0.3670 - precision_2: 0.8253 - recall_2: 0.8413 - val_loss: 0.6928 - val_precision_2: 0.7302 - val_recall_2: 0.7431\n",
      "Restoring model weights from the end of the best epoch.\n",
      "\n",
      "Epoch 00016: val_loss did not improve from 0.49767\n",
      "Epoch 00016: early stopping\n",
      "Wall time: 31 s\n"
     ]
    }
   ],
   "source": [
    "%%time\n",
    "if load_and_train_GloVe_BC_model:\n",
    "    bc_GloVe_model_history = train_and_get_history_deep_model(binary_clf_GloVe_model,\n",
    "                                                              bc_GloVe_callbacks,\n",
    "                                                              X_train,\n",
    "                                                              y_train,\n",
    "                                                              X_test,\n",
    "                                                              y_test,\n",
    "                                                              epochs=50,)"
   ]
  },
  {
   "cell_type": "code",
   "execution_count": 48,
   "metadata": {},
   "outputs": [
    {
     "data": {
      "image/png": "[encoded data removed]",
      "text/plain": [
       "<Figure size 720x720 with 1 Axes>"
      ]
     },
     "metadata": {
      "needs_background": "light"
     },
     "output_type": "display_data"
    }
   ],
   "source": [
    "if load_and_train_GloVe_BC_model:\n",
    "    line_plot_metric(\"loss\", \"Train. and valid. loss for GloVe BC model\", bc_GloVe_model_history)"
   ]
  },
  {
   "cell_type": "code",
   "execution_count": 49,
   "metadata": {},
   "outputs": [
    {
     "name": "stdout",
     "output_type": "stream",
     "text": [
      "Scores for  <tensorflow.python.keras.engine.sequential.Sequential object at 0x0000027293800640>\n",
      "Accuracy Train:  0.8138912335704811\n",
      "Accuracy Test:  0.7471785473135912\n",
      "Precision:  0.7562032296179598\n",
      "Recall:  0.7352096496266514\n",
      "F1 Score:  0.7455586836229492\n"
     ]
    }
   ],
   "source": [
    "if load_and_train_GloVe_BC_model:\n",
    "    print_scores(binary_clf_GloVe_model,X_test, y_test, X_train, y_train)"
   ]
  },
  {
   "cell_type": "markdown",
   "metadata": {},
   "source": [
    "# 6.0 Now lets try adding GloVe embedding matrix to LSTM"
   ]
  },
  {
   "cell_type": "code",
   "execution_count": 50,
   "metadata": {},
   "outputs": [],
   "source": [
    "## Note: vocab_size is = len(tokenizer.word_index) + 1 for glove models"
   ]
  },
  {
   "cell_type": "code",
   "execution_count": 51,
   "metadata": {},
   "outputs": [],
   "source": [
    "def get_LSTM_GloVe_model(embedding_matrix, tokenizer, max_length=40):\n",
    "    vocab_size = len(tokenizer.word_index) + 1\n",
    "    model = Sequential()\n",
    "    model.add(Embedding(vocab_size, \n",
    "                        300, \n",
    "                        weights=[embedding_matrix], \n",
    "                        input_length=max_length,\n",
    "                        trainable=False))\n",
    "    model.add(LSTM(100))\n",
    "    model.add(Dropout(0.3))\n",
    "    model.add(Dense(64, activation='relu'))\n",
    "    model.add(Dropout(0.3))\n",
    "    model.add(Flatten())\n",
    "    model.add(Dense(1, activation='sigmoid'))\n",
    "    return model"
   ]
  },
  {
   "cell_type": "code",
   "execution_count": 52,
   "metadata": {},
   "outputs": [],
   "source": [
    "if load_and_train_LSTM_GloVe_model: \n",
    "    best_LSTM_GloVe_model_file_name = \"models/best_model_LSTM_clf_with_GloVe.hdf5\""
   ]
  },
  {
   "cell_type": "code",
   "execution_count": 53,
   "metadata": {},
   "outputs": [],
   "source": [
    "if load_and_train_LSTM_GloVe_model: \n",
    "    LSTM_GloVe_callbacks = get_callbacks(best_LSTM_GloVe_model_file_name)"
   ]
  },
  {
   "cell_type": "code",
   "execution_count": 54,
   "metadata": {},
   "outputs": [],
   "source": [
    "if load_and_train_LSTM_GloVe_model: \n",
    "    LSTM_GloVe_model = get_LSTM_GloVe_model(embedding_matrix, trained_tokenizer)"
   ]
  },
  {
   "cell_type": "code",
   "execution_count": 55,
   "metadata": {},
   "outputs": [],
   "source": [
    "#LSTM_GloVe_model.summary()"
   ]
  },
  {
   "cell_type": "markdown",
   "metadata": {},
   "source": [
    "## 6.1 Load and train LSTM with GloVe"
   ]
  },
  {
   "cell_type": "code",
   "execution_count": 56,
   "metadata": {},
   "outputs": [],
   "source": [
    "if load_and_train_LSTM_GloVe_model: \n",
    "    opt = keras.optimizers.Adam(learning_rate=0.01)\n",
    "    LSTM_GloVe_model = compile_model(LSTM_GloVe_model, opt)"
   ]
  },
  {
   "cell_type": "code",
   "execution_count": 57,
   "metadata": {},
   "outputs": [
    {
     "name": "stdout",
     "output_type": "stream",
     "text": [
      "Epoch 1/15\n",
      "1296/1296 [==============================] - 26s 18ms/step - loss: 0.4726 - precision_3: 0.7146 - recall_3: 0.8285 - val_loss: 0.4178 - val_precision_3: 0.7458 - val_recall_3: 0.8729\n",
      "\n",
      "Epoch 00001: val_loss improved from inf to 0.41777, saving model to models\\best_model_LSTM_clf_with_GloVe.hdf5\n",
      "Epoch 2/15\n",
      "1296/1296 [==============================] - 21s 17ms/step - loss: 0.4229 - precision_3: 0.7473 - recall_3: 0.8572 - val_loss: 0.4092 - val_precision_3: 0.7661 - val_recall_3: 0.8558\n",
      "\n",
      "Epoch 00002: val_loss improved from 0.41777 to 0.40925, saving model to models\\best_model_LSTM_clf_with_GloVe.hdf5\n",
      "Epoch 3/15\n",
      "1296/1296 [==============================] - 22s 17ms/step - loss: 0.3964 - precision_3: 0.7689 - recall_3: 0.8671 - val_loss: 0.4033 - val_precision_3: 0.7556 - val_recall_3: 0.8855\n",
      "\n",
      "Epoch 00003: val_loss improved from 0.40925 to 0.40331, saving model to models\\best_model_LSTM_clf_with_GloVe.hdf5\n",
      "Epoch 4/15\n",
      "1296/1296 [==============================] - 29s 23ms/step - loss: 0.3849 - precision_3: 0.7744 - recall_3: 0.8765 - val_loss: 0.3972 - val_precision_3: 0.7506 - val_recall_3: 0.9035\n",
      "\n",
      "Epoch 00004: val_loss improved from 0.40331 to 0.39722, saving model to models\\best_model_LSTM_clf_with_GloVe.hdf5\n",
      "Epoch 5/15\n",
      "1296/1296 [==============================] - 20s 16ms/step - loss: 0.3868 - precision_3: 0.7771 - recall_3: 0.8672 - val_loss: 0.4232 - val_precision_3: 0.7583 - val_recall_3: 0.8553\n",
      "\n",
      "Epoch 00005: val_loss did not improve from 0.39722\n",
      "Epoch 6/15\n",
      "1296/1296 [==============================] - 22s 17ms/step - loss: 0.3923 - precision_3: 0.7749 - recall_3: 0.8701 - val_loss: 0.4047 - val_precision_3: 0.7775 - val_recall_3: 0.8269\n",
      "\n",
      "Epoch 00006: val_loss did not improve from 0.39722\n",
      "Epoch 7/15\n",
      "1296/1296 [==============================] - 20s 15ms/step - loss: 0.3641 - precision_3: 0.7916 - recall_3: 0.8803 - val_loss: 0.3996 - val_precision_3: 0.7568 - val_recall_3: 0.8805\n",
      "\n",
      "Epoch 00007: val_loss did not improve from 0.39722\n",
      "Epoch 8/15\n",
      "1296/1296 [==============================] - 19s 15ms/step - loss: 0.3562 - precision_3: 0.7953 - recall_3: 0.8848 - val_loss: 0.4017 - val_precision_3: 0.7610 - val_recall_3: 0.8798\n",
      "\n",
      "Epoch 00008: val_loss did not improve from 0.39722\n",
      "Epoch 9/15\n",
      "1296/1296 [==============================] - 19s 15ms/step - loss: 0.3540 - precision_3: 0.7987 - recall_3: 0.8837 - val_loss: 0.3958 - val_precision_3: 0.7690 - val_recall_3: 0.8801\n",
      "\n",
      "Epoch 00009: val_loss improved from 0.39722 to 0.39577, saving model to models\\best_model_LSTM_clf_with_GloVe.hdf5\n",
      "Epoch 10/15\n",
      "1296/1296 [==============================] - 23s 17ms/step - loss: 0.3488 - precision_3: 0.8011 - recall_3: 0.8918 - val_loss: 0.4113 - val_precision_3: 0.7812 - val_recall_3: 0.8325\n",
      "\n",
      "Epoch 00010: val_loss did not improve from 0.39577\n",
      "Epoch 11/15\n",
      "1296/1296 [==============================] - 23s 18ms/step - loss: 0.3461 - precision_3: 0.8043 - recall_3: 0.8865 - val_loss: 0.4213 - val_precision_3: 0.7549 - val_recall_3: 0.8886\n",
      "\n",
      "Epoch 00011: val_loss did not improve from 0.39577\n",
      "Epoch 12/15\n",
      "1296/1296 [==============================] - 19s 15ms/step - loss: 0.3450 - precision_3: 0.7996 - recall_3: 0.8910 - val_loss: 0.4119 - val_precision_3: 0.7584 - val_recall_3: 0.8857\n",
      "\n",
      "Epoch 00012: val_loss did not improve from 0.39577\n",
      "Epoch 13/15\n",
      "1296/1296 [==============================] - 19s 15ms/step - loss: 0.3476 - precision_3: 0.8017 - recall_3: 0.8899 - val_loss: 0.4191 - val_precision_3: 0.7472 - val_recall_3: 0.8943\n",
      "\n",
      "Epoch 00013: val_loss did not improve from 0.39577\n",
      "Epoch 14/15\n",
      "1296/1296 [==============================] - 19s 15ms/step - loss: 0.3494 - precision_3: 0.7983 - recall_3: 0.8895 - val_loss: 0.4255 - val_precision_3: 0.7622 - val_recall_3: 0.8520\n",
      "\n",
      "Epoch 00014: val_loss did not improve from 0.39577\n",
      "Epoch 15/15\n",
      "1296/1296 [==============================] - 19s 15ms/step - loss: 0.3522 - precision_3: 0.7970 - recall_3: 0.8897 - val_loss: 0.4240 - val_precision_3: 0.7744 - val_recall_3: 0.8461\n",
      "\n",
      "Epoch 00015: val_loss did not improve from 0.39577\n",
      "Wall time: 5min 54s\n"
     ]
    }
   ],
   "source": [
    "%%time\n",
    "if load_and_train_LSTM_GloVe_model: \n",
    "    LSTM_GloVe_model_history = train_and_get_history_deep_model(LSTM_GloVe_model,\n",
    "                                                              LSTM_GloVe_callbacks,\n",
    "                                                              X_train,\n",
    "                                                              y_train,\n",
    "                                                              X_test,\n",
    "                                                              y_test,\n",
    "                                                              epochs=15,)"
   ]
  },
  {
   "cell_type": "code",
   "execution_count": 58,
   "metadata": {},
   "outputs": [],
   "source": [
    "import matplotlib.pyplot as plt\n",
    "from matplotlib import rcParams\n",
    "plt.rcParams['figure.figsize'] = [10, 10]\n",
    "import seaborn as sns\n",
    "sns.set_theme(style=\"darkgrid\")"
   ]
  },
  {
   "cell_type": "code",
   "execution_count": 59,
   "metadata": {},
   "outputs": [
    {
     "data": {
      "image/png": "[encoded data removed]",
      "text/plain": [
       "<Figure size 720x720 with 1 Axes>"
      ]
     },
     "metadata": {},
     "output_type": "display_data"
    }
   ],
   "source": [
    "title = \"Train. and valid. loss for LSTM GloVe model on {} entries\".format(len(df))\n",
    "if load_and_train_LSTM_GloVe_model: \n",
    "    line_plot_metric(\"loss\", title, LSTM_GloVe_model_history)"
   ]
  },
  {
   "cell_type": "markdown",
   "metadata": {},
   "source": [
    "## 6.2 Important: Scores for model"
   ]
  },
  {
   "cell_type": "code",
   "execution_count": 60,
   "metadata": {},
   "outputs": [
    {
     "name": "stdout",
     "output_type": "stream",
     "text": [
      "Scores for  <tensorflow.python.keras.engine.sequential.Sequential object at 0x0000027293613040>\n",
      "Accuracy Train:  0.8616664656939588\n",
      "Accuracy Test:  0.7983023053921096\n",
      "Precision:  0.7744479495268138\n",
      "Recall:  0.8460654796094199\n",
      "F1 Score:  0.8086741696404062\n"
     ]
    }
   ],
   "source": [
    "if load_and_train_LSTM_GloVe_model:\n",
    "    print_scores(LSTM_GloVe_model, X_test, y_test, X_train, y_train)"
   ]
  },
  {
   "cell_type": "markdown",
   "metadata": {},
   "source": [
    "# 7.  Predict on LIAR"
   ]
  },
  {
   "cell_type": "code",
   "execution_count": 61,
   "metadata": {},
   "outputs": [],
   "source": [
    "def prepare_liar():\n",
    "    liar_path = \"data/liar_dataset/test.tsv\"\n",
    "    liar_df = pd.read_csv(liar_path, sep='\\t', names=[\"ID\", \"label\", \"statement\", \"subject\", \"speaker\", \"job title\", \"state \", \"party \",\"total credit\", \"barely true counts\",\"false counts\", \"half true counts\", \"mostly true counts\", \"pants on fire counts\",\"context \"])\n",
    "    liar_df['custom_label'] = np.where(((liar_df['label'] == 'true') | (liar_df['label'] == 'mostly-true')), 1, 0)\n",
    "    liar_df = liar_df.dropna(subset=['label', 'statement'])\n",
    "    liar_df['statement'] = liar_df['statement'].str.strip()\n",
    "    liar_df = liar_df.drop_duplicates(subset=\"statement\") \n",
    "    liar_df[\"statement\"] = pd.concat(map(LoadingAndCleaning.clean_content, np.array_split(liar_df[\"statement\"], 32)))\n",
    "    liar_df[\"statement\"] = pd.concat(map(LoadingAndCleaning.clean_content, np.array_split(liar_df[\"statement\"], 32)))\n",
    "    liar_df[\"statement\"] = pd.concat(map(LoadingAndCleaning.tokenize, np.array_split(liar_df[\"statement\"], 32)))\n",
    "    liar_df[\"statement\"] = pd.concat(map(LoadingAndCleaning.remove_stopwords, np.array_split(liar_df[\"statement\"], 32)))\n",
    "    liar_df[\"statement_joined\"] = pd.concat(map(LoadingAndCleaning.recombine_content, np.array_split(liar_df[\"statement\"], 32)))\n",
    "    liar_df[\"statement_len\"] = pd.concat(map(LoadingAndCleaning.add_content_length, np.array_split(liar_df[\"statement\"], 32)))\n",
    "    return liar_df"
   ]
  },
  {
   "cell_type": "code",
   "execution_count": 62,
   "metadata": {},
   "outputs": [],
   "source": [
    "def pre_process_LIAR_deep_models(raw_df, feature, use_labels=False):\n",
    "    # Fill nans with empty strings, and append title and author to content\n",
    "    df = raw_df.fillna('')\n",
    "    \n",
    "    tokenizer = Tokenizer(oov_token = \"<OOV>\", num_words=6000)\n",
    "    tokenizer.fit_on_texts(df[feature])\n",
    "   \n",
    "\n",
    "    #Add a label (1) to political, reliable and 0 to everything else\n",
    "    #df['label'] = np.where(((df['type'] == 'political') | (df['type'] == 'reliable')), 1, 0)\n",
    "\n",
    "    # save labels in target\n",
    "    if use_labels:\n",
    "        target = df['label'].values\n",
    "        return df, tokenizer, target\n",
    "    else:\n",
    "        return df"
   ]
  },
  {
   "cell_type": "code",
   "execution_count": 63,
   "metadata": {},
   "outputs": [],
   "source": [
    "def format_and_print_LIAR_scores(model, trained_tokenizer, X_train, y_train):\n",
    "    liar_df = prepare_liar()\n",
    "    feature = \"statement_joined\"\n",
    "    liar_targets = liar_df['custom_label'].values\n",
    "    #liar_targets, liar_tokenizer, liar_targets = pre_process_for_testing_deep_models(liar_df, feature, trained_tokenizer, label=\"custom_label\", use_labels=True)\n",
    "    X_padded_liar = get_padded_training_sequence(liar_df, feature, trained_tokenizer)\n",
    "    print_scores(model, X_padded_liar, liar_targets, X_train, y_train)"
   ]
  },
  {
   "cell_type": "markdown",
   "metadata": {},
   "source": [
    "## 7.1 Important: Scores for LIAR"
   ]
  },
  {
   "cell_type": "code",
   "execution_count": 64,
   "metadata": {},
   "outputs": [
    {
     "name": "stdout",
     "output_type": "stream",
     "text": [
      "Scores for  <tensorflow.python.keras.engine.sequential.Sequential object at 0x00000272D6967B20>\n",
      "Accuracy Train:  0.8969733510189316\n",
      "Accuracy Test:  0.3638516179952644\n",
      "Precision:  0.3538083538083538\n",
      "Recall:  0.9621380846325167\n",
      "F1 Score:  0.5173652694610779\n"
     ]
    }
   ],
   "source": [
    "# Change to your model name here\n",
    "model = binary_clf_model\n",
    "format_and_print_LIAR_scores(model, trained_tokenizer, X_train, y_train)"
   ]
  },
  {
   "cell_type": "markdown",
   "metadata": {},
   "source": [
    "# 8. Predict on Kaggle"
   ]
  },
  {
   "cell_type": "code",
   "execution_count": 65,
   "metadata": {},
   "outputs": [],
   "source": [
    "# Adjustable cleaner\n",
    "def custom_clean(df, feature):\n",
    "    feature_joined = feature + \"_joined\"\n",
    "    df[feature] = pd.concat(map(LoadingAndCleaning.clean_content, np.array_split(df[feature], 32)))\n",
    "    df[feature] = pd.concat(map(LoadingAndCleaning.tokenize, np.array_split(df[feature], 32)))\n",
    "    df[feature] = pd.concat(map(LoadingAndCleaning.remove_stopwords, np.array_split(df[feature], 32)))\n",
    "    df[feature_joined] = pd.concat(map(LoadingAndCleaning.recombine_content, np.array_split(df[feature], 32)))\n",
    "    return df"
   ]
  },
  {
   "cell_type": "code",
   "execution_count": 66,
   "metadata": {},
   "outputs": [],
   "source": [
    "def prepare_kaggle():\n",
    "    kaggle_path = \"data/kaggle_test_data/test_set.json\"\n",
    "    kaggle_df = pd.read_json(kaggle_path)\n",
    "    kaggle_df = custom_clean(kaggle_df, \"article\")\n",
    "    return kaggle_df"
   ]
  },
  {
   "cell_type": "code",
   "execution_count": 67,
   "metadata": {},
   "outputs": [],
   "source": [
    "def get_kaggle_submission(model):\n",
    "    kaggle_df = prepare_kaggle()\n",
    "    kaggle_feature = \"article_joined\"\n",
    "    X_padded_kaggle = get_padded_training_sequence(kaggle_df, kaggle_feature, trained_tokenizer)\n",
    "    kaggle_predictions = (model.predict(X_padded_kaggle) > 0.5).astype(\"int32\")\n",
    "    \n",
    "    kaggle_submission = kaggle_df\n",
    "    kaggle_submission['label'] = kaggle_predictions.tolist()\n",
    "    kaggle_submission = kaggle_submission.drop(['article', 'article_joined'], axis=1)\n",
    "    kaggle_submission['label'] = kaggle_submission['label'].apply(lambda x: x[0])\n",
    "    kaggle_submission['label'] = np.where(((kaggle_submission['label'] == 1)), \"REAL\", \"FAKE\")\n",
    "    return kaggle_submission"
   ]
  },
  {
   "cell_type": "code",
   "execution_count": 68,
   "metadata": {},
   "outputs": [],
   "source": [
    "# Change to your model name here\n",
    "kaggle_submission = get_kaggle_submission(model)"
   ]
  },
  {
   "cell_type": "markdown",
   "metadata": {},
   "source": [
    "## 8.1 Important: Kaggle predictions"
   ]
  },
  {
   "cell_type": "code",
   "execution_count": 69,
   "metadata": {},
   "outputs": [
    {
     "data": {
      "text/html": [
       "<div>\n",
       "<style scoped>\n",
       "    .dataframe tbody tr th:only-of-type {\n",
       "        vertical-align: middle;\n",
       "    }\n",
       "\n",
       "    .dataframe tbody tr th {\n",
       "        vertical-align: top;\n",
       "    }\n",
       "\n",
       "    .dataframe thead th {\n",
       "        text-align: right;\n",
       "    }\n",
       "</style>\n",
       "<table border=\"1\" class=\"dataframe\">\n",
       "  <thead>\n",
       "    <tr style=\"text-align: right;\">\n",
       "      <th></th>\n",
       "      <th>id</th>\n",
       "      <th>label</th>\n",
       "    </tr>\n",
       "  </thead>\n",
       "  <tbody>\n",
       "    <tr>\n",
       "      <th>0</th>\n",
       "      <td>8476</td>\n",
       "      <td>REAL</td>\n",
       "    </tr>\n",
       "    <tr>\n",
       "      <th>1</th>\n",
       "      <td>10294</td>\n",
       "      <td>REAL</td>\n",
       "    </tr>\n",
       "    <tr>\n",
       "      <th>2</th>\n",
       "      <td>3608</td>\n",
       "      <td>FAKE</td>\n",
       "    </tr>\n",
       "    <tr>\n",
       "      <th>3</th>\n",
       "      <td>10142</td>\n",
       "      <td>REAL</td>\n",
       "    </tr>\n",
       "    <tr>\n",
       "      <th>4</th>\n",
       "      <td>875</td>\n",
       "      <td>REAL</td>\n",
       "    </tr>\n",
       "    <tr>\n",
       "      <th>...</th>\n",
       "      <td>...</td>\n",
       "      <td>...</td>\n",
       "    </tr>\n",
       "    <tr>\n",
       "      <th>6330</th>\n",
       "      <td>4490</td>\n",
       "      <td>REAL</td>\n",
       "    </tr>\n",
       "    <tr>\n",
       "      <th>6331</th>\n",
       "      <td>8062</td>\n",
       "      <td>REAL</td>\n",
       "    </tr>\n",
       "    <tr>\n",
       "      <th>6332</th>\n",
       "      <td>8622</td>\n",
       "      <td>FAKE</td>\n",
       "    </tr>\n",
       "    <tr>\n",
       "      <th>6333</th>\n",
       "      <td>4021</td>\n",
       "      <td>REAL</td>\n",
       "    </tr>\n",
       "    <tr>\n",
       "      <th>6334</th>\n",
       "      <td>4330</td>\n",
       "      <td>REAL</td>\n",
       "    </tr>\n",
       "  </tbody>\n",
       "</table>\n",
       "<p>6335 rows × 2 columns</p>\n",
       "</div>"
      ],
      "text/plain": [
       "         id label\n",
       "0      8476  REAL\n",
       "1     10294  REAL\n",
       "2      3608  FAKE\n",
       "3     10142  REAL\n",
       "4       875  REAL\n",
       "...     ...   ...\n",
       "6330   4490  REAL\n",
       "6331   8062  REAL\n",
       "6332   8622  FAKE\n",
       "6333   4021  REAL\n",
       "6334   4330  REAL\n",
       "\n",
       "[6335 rows x 2 columns]"
      ]
     },
     "execution_count": 69,
     "metadata": {},
     "output_type": "execute_result"
    }
   ],
   "source": [
    "kaggle_submission"
   ]
  },
  {
   "cell_type": "markdown",
   "metadata": {},
   "source": [
    "# Save kaggle preds, remember not to overwrite"
   ]
  },
  {
   "cell_type": "code",
   "execution_count": 70,
   "metadata": {},
   "outputs": [],
   "source": [
    "# Put kaggle subs into 'data/submission/yourname.csv'\n",
    "#kaggle_path = \"data/submissions/yournamehere.csv\"\n",
    "#kaggle_submission.to_csv(kaggle_path, index=False)"
   ]
  },
  {
   "cell_type": "code",
   "execution_count": 71,
   "metadata": {},
   "outputs": [],
   "source": [
    "#kaggle_submission"
   ]
  },
  {
   "cell_type": "code",
   "execution_count": 72,
   "metadata": {},
   "outputs": [],
   "source": [
    "#:)"
   ]
  },
  {
   "cell_type": "code",
   "execution_count": null,
   "metadata": {},
   "outputs": [],
   "source": []
  },
  {
   "cell_type": "code",
   "execution_count": null,
   "metadata": {},
   "outputs": [],
   "source": []
  },
  {
   "cell_type": "code",
   "execution_count": null,
   "metadata": {},
   "outputs": [],
   "source": []
  },
  {
   "cell_type": "code",
   "execution_count": null,
   "metadata": {},
   "outputs": [],
   "source": []
  },
  {
   "cell_type": "code",
   "execution_count": null,
   "metadata": {},
   "outputs": [],
   "source": []
  },
  {
   "cell_type": "code",
   "execution_count": null,
   "metadata": {},
   "outputs": [],
   "source": []
  },
  {
   "cell_type": "code",
   "execution_count": null,
   "metadata": {},
   "outputs": [],
   "source": []
  },
  {
   "cell_type": "code",
   "execution_count": null,
   "metadata": {},
   "outputs": [],
   "source": []
  },
  {
   "cell_type": "code",
   "execution_count": null,
   "metadata": {},
   "outputs": [],
   "source": []
  }
 ],
 "metadata": {
  "kernelspec": {
   "display_name": "Python 3",
   "language": "python",
   "name": "python3"
  },
  "language_info": {
   "codemirror_mode": {
    "name": "ipython",
    "version": 3
   },
   "file_extension": ".py",
   "mimetype": "text/x-python",
   "name": "python",
   "nbconvert_exporter": "python",
   "pygments_lexer": "ipython3",
   "version": "3.8.5"
  }
 },
 "nbformat": 4,
 "nbformat_minor": 4
}
